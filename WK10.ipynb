{
  "cells": [
    {
      "cell_type": "markdown",
      "metadata": {
        "id": "QshK8s21WBrf"
      },
      "source": [
        "# Week 10\n",
        "\n",
        "Text Processing and Analysis"
      ]
    },
    {
      "cell_type": "markdown",
      "metadata": {
        "id": "7Hf8SXUwWOho"
      },
      "source": [
        "## Setup\n",
        "\n",
        "Run the following 2 cells to import all necessary libraries and helpers for this week's exercises"
      ]
    },
    {
      "cell_type": "code",
      "execution_count": null,
      "metadata": {},
      "outputs": [],
      "source": [
        "!wget -q https://github.com/PSAM-5020-2025S-A/5020-utils/raw/main/src/data_utils.py\n",
        "!wget -q https://github.com/PSAM-5020-2025S-A/5020-utils/raw/main/src/text_utils.py\n",
        "!wget -qO- https://github.com/PSAM-5020-2025S-A/5020-utils/raw/main/datasets/text/movie_reviews.tar.gz | tar xz"
      ]
    },
    {
      "cell_type": "code",
      "execution_count": null,
      "metadata": {},
      "outputs": [],
      "source": [
        "import matplotlib.pyplot as plt\n",
        "import pandas as pd\n",
        "import string\n",
        "\n",
        "from sklearn.cluster import KMeans\n",
        "from sklearn.decomposition import NMF\n",
        "from sklearn.ensemble import RandomForestClassifier\n",
        "from sklearn.feature_extraction.text import CountVectorizer, TfidfVectorizer\n",
        "from sklearn.model_selection import train_test_split\n",
        "from sklearn.naive_bayes import MultinomialNB\n",
        "\n",
        "from data_utils import MinMaxScaler\n",
        "from data_utils import classification_error, display_confusion_matrix\n",
        "\n",
        "from text_utils import get_top_words"
      ]
    },
    {
      "cell_type": "markdown",
      "metadata": {},
      "source": [
        "## Text Classification\n",
        "\n",
        "Let's ____ using a movie review dataset.\n",
        "\n",
        "Load and look."
      ]
    },
    {
      "cell_type": "code",
      "execution_count": null,
      "metadata": {},
      "outputs": [],
      "source": [
        "reviews_df = pd.read_csv(\"./data/text/movie_reviews.csv\")\n",
        "reviews_df.head()"
      ]
    },
    {
      "cell_type": "markdown",
      "metadata": {},
      "source": [
        "### Features\n",
        "\n",
        "What can we say?"
      ]
    },
    {
      "cell_type": "code",
      "execution_count": null,
      "metadata": {},
      "outputs": [],
      "source": [
        "def count_characters(st):\n",
        "  return len(\"\".join(st.split()))\n",
        "\n",
        "def count_words(st):\n",
        "  return len(st.split(\" \"))\n",
        "\n",
        "def count_punctuation(st):\n",
        "  return len([c for c in st if c in string.punctuation])\n",
        "\n",
        "def count_digits(st):\n",
        "  return len([c for c in st if c in string.digits])\n",
        "\n",
        "def get_punctuation_pct(st):\n",
        "  return count_punctuation(st) / count_characters(st)\n",
        "\n",
        "def get_digit_pct(st):\n",
        "  return count_digits(st) / count_characters(st)"
      ]
    },
    {
      "cell_type": "markdown",
      "metadata": {},
      "source": [
        "Apply to the `DataFrame`."
      ]
    },
    {
      "cell_type": "code",
      "execution_count": null,
      "metadata": {},
      "outputs": [],
      "source": [
        "reviews_df[\"char_count\"] = reviews_df[\"review\"].apply(count_characters)\n",
        "reviews_df[\"word_count\"] = reviews_df[\"review\"].apply(count_words)\n",
        "reviews_df[\"punctuation_pct\"] = reviews_df[\"review\"].apply(get_punctuation_pct)\n",
        "reviews_df[\"digit_pct\"] = reviews_df[\"review\"].apply(get_digit_pct)\n",
        "\n",
        "reviews_df"
      ]
    },
    {
      "cell_type": "markdown",
      "metadata": {},
      "source": [
        "Look at some of these features"
      ]
    },
    {
      "cell_type": "code",
      "execution_count": null,
      "metadata": {},
      "outputs": [],
      "source": [
        "plt.scatter(reviews_df[\"word_count\"], reviews_df[\"punctuation_pct\"], c=reviews_df[\"sentiment\"])\n",
        "plt.title(\"Punctuation % x Word Count\")\n",
        "plt.show()\n",
        "\n",
        "plt.scatter(reviews_df[\"digit_pct\"], reviews_df[\"punctuation_pct\"], c=reviews_df[\"sentiment\"])\n",
        "plt.title(\"Digit % x Word Count\")\n",
        "plt.show()\n",
        "\n",
        "plt.scatter(reviews_df[\"word_count\"], reviews_df[\"char_count\"], c=reviews_df[\"sentiment\"])\n",
        "plt.title(\"Character Count x Word Count\")\n",
        "plt.show()"
      ]
    },
    {
      "cell_type": "markdown",
      "metadata": {},
      "source": [
        "Scale"
      ]
    },
    {
      "cell_type": "code",
      "execution_count": null,
      "metadata": {},
      "outputs": [],
      "source": [
        "mScaler = MinMaxScaler()\n",
        "\n",
        "simple_feats_df = reviews_df.drop(columns=[\"review\", \"sentiment\"])\n",
        "simple_feats_scaled_df = mScaler.fit_transform(simple_feats_df)\n",
        "\n",
        "simple_feats_scaled_df[\"sentiment\"] = reviews_df[\"sentiment\"]\n",
        "\n",
        "simple_feats_scaled_df"
      ]
    },
    {
      "cell_type": "code",
      "execution_count": null,
      "metadata": {},
      "outputs": [],
      "source": [
        "reviews_train_df, reviews_test_df = train_test_split(simple_feats_scaled_df, test_size=0.2)\n",
        "\n",
        "reviews_train_df"
      ]
    },
    {
      "cell_type": "code",
      "execution_count": null,
      "metadata": {},
      "outputs": [],
      "source": [
        "mClassifier = RandomForestClassifier()\n",
        "\n",
        "train_feats = reviews_train_df.drop(columns=[\"sentiment\"])\n",
        "train_labels = reviews_train_df[\"sentiment\"]\n",
        "\n",
        "mClassifier.fit(train_feats, train_labels)\n",
        "\n",
        "train_preds = mClassifier.predict(train_feats)\n",
        "\n",
        "classification_error(train_labels, train_preds)"
      ]
    },
    {
      "cell_type": "code",
      "execution_count": null,
      "metadata": {},
      "outputs": [],
      "source": [
        "test_feats = reviews_test_df.drop(columns=[\"sentiment\"])\n",
        "test_labels = reviews_test_df[\"sentiment\"]\n",
        "\n",
        "test_preds = mClassifier.predict(test_feats)\n",
        "\n",
        "classification_error(test_labels, test_preds)"
      ]
    },
    {
      "cell_type": "markdown",
      "metadata": {},
      "source": [
        "# 🤔\n",
        "\n",
        "Bag of words"
      ]
    },
    {
      "cell_type": "code",
      "execution_count": null,
      "metadata": {},
      "outputs": [],
      "source": [
        "reviews_df = pd.read_csv(\"./data/text/movie_reviews.csv\")\n",
        "\n",
        "reviews_train_df, reviews_test_df = train_test_split(reviews_df, test_size=0.2)\n",
        "reviews_train_df"
      ]
    },
    {
      "cell_type": "code",
      "execution_count": null,
      "metadata": {},
      "outputs": [],
      "source": [
        "mCV = CountVectorizer(stop_words=\"english\", min_df=5, max_df=0.75, max_features=10_000)\n",
        "\n",
        "reviews_train_vct = mCV.fit_transform(reviews_train_df[\"review\"])\n",
        "reviews_test_vct = mCV.transform(reviews_test_df[\"review\"])"
      ]
    },
    {
      "cell_type": "code",
      "execution_count": null,
      "metadata": {},
      "outputs": [],
      "source": [
        "reviews_train_vct"
      ]
    },
    {
      "cell_type": "markdown",
      "metadata": {},
      "source": [
        "Working with sparse matrices.\n",
        "\n",
        "Words counted:"
      ]
    },
    {
      "cell_type": "code",
      "execution_count": null,
      "metadata": {},
      "outputs": [],
      "source": [
        "vocab = mCV.get_feature_names_out()\n",
        "vocab"
      ]
    },
    {
      "cell_type": "markdown",
      "metadata": {},
      "source": [
        "Get words in a review"
      ]
    },
    {
      "cell_type": "code",
      "execution_count": null,
      "metadata": {},
      "outputs": [],
      "source": [
        "mCV.inverse_transform(reviews_train_vct[0])"
      ]
    },
    {
      "cell_type": "markdown",
      "metadata": {},
      "source": [
        "Get indices of words in a review:"
      ]
    },
    {
      "cell_type": "code",
      "execution_count": null,
      "metadata": {},
      "outputs": [],
      "source": [
        "reviews_train_vct[0].nonzero()"
      ]
    },
    {
      "cell_type": "markdown",
      "metadata": {},
      "source": [
        "Get counts of those words in a review"
      ]
    },
    {
      "cell_type": "code",
      "execution_count": null,
      "metadata": {},
      "outputs": [],
      "source": [
        "reviews_train_vct[reviews_train_vct[0].nonzero()]"
      ]
    },
    {
      "cell_type": "markdown",
      "metadata": {},
      "source": [
        "Get words ordered by frequency:"
      ]
    },
    {
      "cell_type": "code",
      "execution_count": null,
      "metadata": {},
      "outputs": [],
      "source": [
        "review = reviews_train_vct[0]\n",
        "\n",
        "n_words = len(review.nonzero()[0])\n",
        "\n",
        "sorted_idxs = (-review.toarray()[0]).argsort()\n",
        "\n",
        "vocab[sorted_idxs[:n_words]]"
      ]
    },
    {
      "cell_type": "code",
      "execution_count": null,
      "metadata": {},
      "outputs": [],
      "source": [
        "from text_utils import get_top_words\n",
        "\n",
        "get_top_words(reviews_train_vct[0], vocab, n_words)"
      ]
    },
    {
      "cell_type": "code",
      "execution_count": null,
      "metadata": {},
      "outputs": [],
      "source": [
        "mClassifier = RandomForestClassifier()\n",
        "\n",
        "train_labels = reviews_train_df[\"sentiment\"]\n",
        "\n",
        "mClassifier.fit(reviews_train_vct, train_labels)\n",
        "\n",
        "train_preds = mClassifier.predict(reviews_train_vct)\n",
        "\n",
        "classification_error(train_labels, train_preds)"
      ]
    },
    {
      "cell_type": "code",
      "execution_count": null,
      "metadata": {},
      "outputs": [],
      "source": [
        "test_labels = reviews_test_df[\"sentiment\"]\n",
        "\n",
        "test_preds = mClassifier.predict(reviews_test_vct)\n",
        "\n",
        "classification_error(test_labels, test_preds)"
      ]
    },
    {
      "cell_type": "markdown",
      "metadata": {},
      "source": [
        "Naive Bayes\n",
        "\n",
        "Some equations\n",
        "\n",
        "Bernouli vs gaussian vs categorical vs multinomial"
      ]
    },
    {
      "cell_type": "code",
      "execution_count": null,
      "metadata": {},
      "outputs": [],
      "source": [
        "# here"
      ]
    },
    {
      "cell_type": "markdown",
      "metadata": {},
      "source": [
        "Order of words ?"
      ]
    },
    {
      "cell_type": "code",
      "execution_count": null,
      "metadata": {},
      "outputs": [],
      "source": [
        "mCV = CountVectorizer(stop_words=\"english\", min_df=5, max_df=0.75, max_features=50_000, ngram_range=(2, 2))\n",
        "\n",
        "reviews_train_vct = mCV.fit_transform(reviews_train_df[\"review\"])\n",
        "reviews_test_vct = mCV.transform(reviews_test_df[\"review\"])"
      ]
    },
    {
      "cell_type": "code",
      "execution_count": null,
      "metadata": {},
      "outputs": [],
      "source": [
        "vocab = mCV.get_feature_names_out()\n",
        "vocab"
      ]
    },
    {
      "cell_type": "code",
      "execution_count": null,
      "metadata": {},
      "outputs": [],
      "source": [
        "mCV.inverse_transform(reviews_train_vct[0])"
      ]
    },
    {
      "cell_type": "code",
      "execution_count": null,
      "metadata": {},
      "outputs": [],
      "source": [
        "get_top_words(reviews_train_vct[0], vocab)"
      ]
    },
    {
      "cell_type": "code",
      "execution_count": null,
      "metadata": {},
      "outputs": [],
      "source": [
        "mClassifier = MultinomialNB()\n",
        "\n",
        "train_labels = reviews_train_df[\"sentiment\"]\n",
        "\n",
        "mClassifier.fit(reviews_train_vct, train_labels)\n",
        "\n",
        "train_preds = mClassifier.predict(reviews_train_vct)\n",
        "\n",
        "classification_error(train_labels, train_preds)"
      ]
    },
    {
      "cell_type": "code",
      "execution_count": null,
      "metadata": {},
      "outputs": [],
      "source": [
        "test_labels = reviews_test_df[\"sentiment\"]\n",
        "\n",
        "test_preds = mClassifier.predict(reviews_test_vct)\n",
        "\n",
        "classification_error(test_labels, test_preds)"
      ]
    },
    {
      "cell_type": "markdown",
      "metadata": {},
      "source": [
        "Slightly smarter counts"
      ]
    },
    {
      "cell_type": "code",
      "execution_count": null,
      "metadata": {},
      "outputs": [],
      "source": [
        "mTfidV = TfidfVectorizer(stop_words=\"english\", min_df=5, max_df=0.75, max_features=50_000, ngram_range=(1, 1))\n",
        "\n",
        "reviews_train_vct = mTfidV.fit_transform(reviews_train_df[\"review\"])\n",
        "reviews_test_vct = mTfidV.transform(reviews_test_df[\"review\"])"
      ]
    },
    {
      "cell_type": "code",
      "execution_count": null,
      "metadata": {},
      "outputs": [],
      "source": [
        "vocab = mTfidV.get_feature_names_out()\n",
        "vocab"
      ]
    },
    {
      "cell_type": "code",
      "execution_count": null,
      "metadata": {},
      "outputs": [],
      "source": [
        "mTfidV.inverse_transform(reviews_train_vct[0])"
      ]
    },
    {
      "cell_type": "code",
      "execution_count": null,
      "metadata": {},
      "outputs": [],
      "source": [
        "get_top_words(reviews_train_vct[0], vocab, 10)"
      ]
    },
    {
      "cell_type": "code",
      "execution_count": null,
      "metadata": {},
      "outputs": [],
      "source": [
        "mClassifier = MultinomialNB()\n",
        "\n",
        "train_labels = reviews_train_df[\"sentiment\"]\n",
        "\n",
        "mClassifier.fit(reviews_train_vct, train_labels)\n",
        "\n",
        "train_preds = mClassifier.predict(reviews_train_vct)\n",
        "\n",
        "classification_error(train_labels, train_preds)"
      ]
    },
    {
      "cell_type": "code",
      "execution_count": null,
      "metadata": {},
      "outputs": [],
      "source": [
        "test_labels = reviews_test_df[\"sentiment\"]\n",
        "\n",
        "test_preds = mClassifier.predict(reviews_test_vct)\n",
        "\n",
        "classification_error(test_labels, test_preds)"
      ]
    },
    {
      "cell_type": "markdown",
      "metadata": {},
      "source": [
        "TODO: TFIDF with ngrams ??"
      ]
    },
    {
      "cell_type": "markdown",
      "metadata": {},
      "source": [
        "Can we extract other info ? Cluster ?"
      ]
    },
    {
      "cell_type": "code",
      "execution_count": null,
      "metadata": {},
      "outputs": [],
      "source": [
        "mClust = KMeans(n_clusters=8)\n",
        "reviews_train_km = mClust.fit_predict(reviews_train_vct)"
      ]
    },
    {
      "cell_type": "code",
      "execution_count": null,
      "metadata": {},
      "outputs": [],
      "source": [
        "get_top_words(mClust.cluster_centers_, mTfidV.get_feature_names_out(), 8)[0]"
      ]
    },
    {
      "cell_type": "markdown",
      "metadata": {},
      "source": [
        "Can we do better ?\n",
        "\n",
        "We're clustering over 40k features .... very sparse space."
      ]
    },
    {
      "cell_type": "code",
      "execution_count": null,
      "metadata": {},
      "outputs": [],
      "source": [
        "mNmf = NMF(n_components=8)\n",
        "reviews_train_nmf = mNmf.fit_transform(reviews_train_vct)"
      ]
    },
    {
      "cell_type": "code",
      "execution_count": null,
      "metadata": {},
      "outputs": [],
      "source": [
        "get_top_words(mNmf.components_, mTfidV.get_feature_names_out(), 6)[0]"
      ]
    },
    {
      "cell_type": "markdown",
      "metadata": {},
      "source": [
        "Classification for other dataset.\n",
        "\n",
        "Amazon products"
      ]
    },
    {
      "cell_type": "code",
      "execution_count": null,
      "metadata": {},
      "outputs": [],
      "source": [
        "!wget -qO- https://github.com/PSAM-5020-2025S-A/5020-utils/raw/refs/heads/main/datasets/text/amazon_reviews/books.tar.gz | tar xz"
      ]
    },
    {
      "cell_type": "markdown",
      "metadata": {},
      "source": [
        "Read and drop nan"
      ]
    },
    {
      "cell_type": "code",
      "execution_count": null,
      "metadata": {},
      "outputs": [],
      "source": [
        "reviews_full_df = pd.read_csv(\"./data/text/amazon_reviews/books.csv\")\n",
        "reviews_full_df.dropna(inplace=True)\n",
        "reviews_full_df"
      ]
    },
    {
      "cell_type": "markdown",
      "metadata": {},
      "source": [
        "Look at class distribution"
      ]
    },
    {
      "cell_type": "code",
      "execution_count": null,
      "metadata": {},
      "outputs": [],
      "source": [
        "reviews_full_df[\"rating\"].value_counts()"
      ]
    },
    {
      "cell_type": "markdown",
      "metadata": {},
      "source": [
        "# 🫤\n",
        "\n",
        "A model can guess $5$ all the time and be correct $60\\%$ of the time."
      ]
    },
    {
      "cell_type": "code",
      "execution_count": null,
      "metadata": {},
      "outputs": [],
      "source": [
        "min_count = reviews_full_df[\"rating\"].value_counts().min()\n",
        "\n",
        "def sample_min(df):\n",
        "  return df.sample(min_count)\n",
        "\n",
        "rg = reviews_full_df.groupby(\"rating\")\n",
        "reviews_balanced_df = rg.apply(sample_min).reset_index(drop=True)\n",
        "\n",
        "del reviews_full_df\n",
        "\n",
        "reviews_balanced_df"
      ]
    },
    {
      "cell_type": "markdown",
      "metadata": {},
      "source": [
        "Two more prep steps:"
      ]
    },
    {
      "cell_type": "code",
      "execution_count": null,
      "metadata": {},
      "outputs": [],
      "source": [
        "reviews_df = pd.DataFrame(reviews_balanced_df[\"rating\"].astype(int))\n",
        "reviews_df[\"review\"] = reviews_balanced_df[\"title\"] + \" \" + reviews_balanced_df[\"review_text\"]\n",
        "reviews_df"
      ]
    },
    {
      "cell_type": "markdown",
      "metadata": {},
      "source": [
        "Ok. Go forth and Classify"
      ]
    },
    {
      "cell_type": "code",
      "execution_count": null,
      "metadata": {},
      "outputs": [],
      "source": [
        "# T/T Split\n",
        "# Vectorize\n",
        "# Classify\n",
        "# Evaluate\n",
        "# Repeat with ngrams"
      ]
    }
  ],
  "metadata": {
    "colab": {
      "authorship_tag": "ABX9TyPxe2qYxIG7EblrvD1C4Pmv",
      "provenance": []
    },
    "kernelspec": {
      "display_name": "Python 3.9.17 ('hf-model')",
      "language": "python",
      "name": "python3"
    },
    "language_info": {
      "codemirror_mode": {
        "name": "ipython",
        "version": 3
      },
      "file_extension": ".py",
      "mimetype": "text/x-python",
      "name": "python",
      "nbconvert_exporter": "python",
      "pygments_lexer": "ipython3",
      "version": "3.10.15"
    },
    "vscode": {
      "interpreter": {
        "hash": "89e384cab7c47fb35ec95d2248b519cf922ee174880eed636c26cdfb6c4df768"
      }
    }
  },
  "nbformat": 4,
  "nbformat_minor": 0
}
